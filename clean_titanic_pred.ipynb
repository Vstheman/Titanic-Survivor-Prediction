{
 "cells": [
  {
   "cell_type": "code",
   "execution_count": 164,
   "metadata": {},
   "outputs": [],
   "source": [
    "import pandas as pd\n",
    "import numpy as np\n",
    "import matplotlib.pyplot as plt\n",
    "import seaborn as sns"
   ]
  },
  {
   "cell_type": "code",
   "execution_count": 165,
   "metadata": {},
   "outputs": [],
   "source": [
    "df = pd.read_csv(\"train.csv\")\n",
    "df_test = pd.read_csv(\"test.csv\")"
   ]
  },
  {
   "cell_type": "markdown",
   "metadata": {},
   "source": [
    "### Data Cleaning"
   ]
  },
  {
   "cell_type": "markdown",
   "metadata": {},
   "source": [
    "#### Deleting useless columns"
   ]
  },
  {
   "cell_type": "code",
   "execution_count": 166,
   "metadata": {},
   "outputs": [],
   "source": [
    "df.drop(\"Cabin\", axis=1, inplace = True)\n",
    "df.drop(\"Name\", axis=1, inplace = True)\n",
    "df.drop(\"Ticket\", axis=1, inplace = True)\n",
    "\n",
    "df_test.drop(\"Cabin\", axis=1, inplace = True)\n",
    "df_test.drop(\"Name\", axis=1, inplace = True)\n",
    "df_test.drop(\"Ticket\", axis=1, inplace = True)"
   ]
  },
  {
   "cell_type": "markdown",
   "metadata": {},
   "source": [
    "#### Dealing with NaN values"
   ]
  },
  {
   "cell_type": "code",
   "execution_count": 167,
   "metadata": {},
   "outputs": [],
   "source": [
    "#Replacing NaN values in \"Age\" with the mean of values in the column\n",
    "mean_age = df.Age.mean()\n",
    "df.fillna(value=mean_age, inplace = True)\n",
    "\n",
    "mean_age_test = df_test.Age.mean()\n",
    "df_test.fillna(value=mean_age_test, inplace = True)\n",
    "\n",
    "#2 values in Embarked are missing so replacing that with \"C\", since C has the highest frequency)\n",
    "df.fillna(value=\"C\",inplace=True)"
   ]
  },
  {
   "cell_type": "markdown",
   "metadata": {},
   "source": [
    "#### Combining \"Parch\" and \"SibSp\" to create \"Relatives\" column and dropping them"
   ]
  },
  {
   "cell_type": "code",
   "execution_count": 168,
   "metadata": {},
   "outputs": [],
   "source": [
    "df[\"Relatives\"] = df.Parch+df.SibSp\n",
    "df_test[\"Relatives\"] = df.Parch+df.SibSp\n",
    "\n",
    "df.drop(\"Parch\",axis=1,inplace=True)\n",
    "df.drop(\"SibSp\",axis=1,inplace=True)\n",
    "\n",
    "df_test.drop(\"Parch\",axis=1,inplace=True)\n",
    "df_test.drop(\"SibSp\",axis=1,inplace=True)"
   ]
  },
  {
   "cell_type": "markdown",
   "metadata": {},
   "source": [
    "#### Segregating \"Age\" into different bins based on the value "
   ]
  },
  {
   "cell_type": "code",
   "execution_count": 169,
   "metadata": {},
   "outputs": [],
   "source": [
    "df[\"phase\"]= pd.cut(df.Age, bins = [0,17,29,50,100], labels=[\"child\", \"young\",\"midlife\", \"oldie\"] )\n",
    "df[\"phase_num\"]= pd.cut(df.Age, bins = [0,17,29,50,100], labels=[\"1\", \"2\",\"3\", \"4\"] )\n",
    "df[\"phase_num\"] = df[\"phase_num\"].astype(\"int64\")\n",
    "\n",
    "df_test[\"phase\"]= pd.cut(df_test.Age, bins = [0,17,29,50,100], labels=[\"child\", \"young\",\"midlife\", \"oldie\"] )\n",
    "df_test[\"phase_num\"]= pd.cut(df_test.Age, bins = [0,17,29,50,100], labels=[\"1\", \"2\",\"3\", \"4\"] )\n",
    "df_test[\"phase_num\"] = df_test[\"phase_num\"].astype(\"int64\")"
   ]
  },
  {
   "cell_type": "markdown",
   "metadata": {},
   "source": [
    "### Visualizing Our Data"
   ]
  },
  {
   "cell_type": "markdown",
   "metadata": {},
   "source": [
    "#### Survival based on gender"
   ]
  },
  {
   "cell_type": "code",
   "execution_count": 170,
   "metadata": {},
   "outputs": [
    {
     "data": {
      "text/plain": [
       "Text(0, 0.5, 'Number of people')"
      ]
     },
     "execution_count": 170,
     "metadata": {},
     "output_type": "execute_result"
    },
    {
     "data": {
      "image/png": "[encoded data removed]",
      "text/plain": [
       "<Figure size 432x288 with 1 Axes>"
      ]
     },
     "metadata": {
      "needs_background": "light"
     },
     "output_type": "display_data"
    }
   ],
   "source": [
    "sns.countplot(x=\"Sex\", data=df,hue=\"Survived\")\n",
    "plt.xlabel(\"Male=1, Female=2\")\n",
    "plt.title(\"Survival based on gender\")\n",
    "plt.ylabel(\"Number of people\")"
   ]
  },
  {
   "cell_type": "markdown",
   "metadata": {},
   "source": [
    "#### Survival based on Class"
   ]
  },
  {
   "cell_type": "code",
   "execution_count": 171,
   "metadata": {},
   "outputs": [
    {
     "data": {
      "text/plain": [
       "<AxesSubplot:xlabel='Pclass', ylabel='count'>"
      ]
     },
     "execution_count": 171,
     "metadata": {},
     "output_type": "execute_result"
    },
    {
     "data": {
      "image/png": "[encoded data removed]",
      "text/plain": [
       "<Figure size 432x288 with 1 Axes>"
      ]
     },
     "metadata": {
      "needs_background": "light"
     },
     "output_type": "display_data"
    }
   ],
   "source": [
    "sns.countplot(x=\"Pclass\", data=df,hue=\"Survived\")"
   ]
  },
  {
   "cell_type": "markdown",
   "metadata": {},
   "source": [
    "#### Survival based on number of relatives On-board"
   ]
  },
  {
   "cell_type": "code",
   "execution_count": 172,
   "metadata": {},
   "outputs": [
    {
     "data": {
      "text/plain": [
       "<AxesSubplot:xlabel='Relatives', ylabel='count'>"
      ]
     },
     "execution_count": 172,
     "metadata": {},
     "output_type": "execute_result"
    },
    {
     "data": {
      "image/png": "[encoded data removed]",
      "text/plain": [
       "<Figure size 432x288 with 1 Axes>"
      ]
     },
     "metadata": {
      "needs_background": "light"
     },
     "output_type": "display_data"
    }
   ],
   "source": [
    "sns.countplot(x=\"Relatives\", data=df,hue=\"Survived\")"
   ]
  },
  {
   "cell_type": "markdown",
   "metadata": {},
   "source": [
    "#### Survival of people based on age bracket"
   ]
  },
  {
   "cell_type": "code",
   "execution_count": 173,
   "metadata": {},
   "outputs": [
    {
     "data": {
      "text/plain": [
       "<AxesSubplot:xlabel='phase', ylabel='count'>"
      ]
     },
     "execution_count": 173,
     "metadata": {},
     "output_type": "execute_result"
    },
    {
     "data": {
      "image/png": "[encoded data removed]",
      "text/plain": [
       "<Figure size 432x288 with 1 Axes>"
      ]
     },
     "metadata": {
      "needs_background": "light"
     },
     "output_type": "display_data"
    }
   ],
   "source": [
    "sns.countplot(x=\"phase\", data=df,hue=\"Survived\")"
   ]
  },
  {
   "cell_type": "markdown",
   "metadata": {},
   "source": [
    "#### Survival of people based on age bracket and class"
   ]
  },
  {
   "cell_type": "code",
   "execution_count": 174,
   "metadata": {},
   "outputs": [
    {
     "data": {
      "image/png": "[encoded data removed]",
      "text/plain": [
       "<Figure size 473.575x288 with 2 Axes>"
      ]
     },
     "metadata": {
      "needs_background": "light"
     },
     "output_type": "display_data"
    }
   ],
   "source": [
    "g = sns.catplot(x=\"Pclass\", hue=\"phase\", col=\"Survived\",\n",
    "                data=df, kind=\"count\",\n",
    "                height=4, aspect=.7)"
   ]
  },
  {
   "cell_type": "markdown",
   "metadata": {},
   "source": [
    "### Extra Pre-processing"
   ]
  },
  {
   "cell_type": "markdown",
   "metadata": {},
   "source": [
    "#### One-Hot Encoding \"Sex\" column"
   ]
  },
  {
   "cell_type": "code",
   "execution_count": 175,
   "metadata": {},
   "outputs": [],
   "source": [
    "dummies = pd.get_dummies(df.Sex)\n",
    "df = pd.concat([df,dummies], axis=\"columns\")\n",
    "df = df.drop(\"Sex\", axis=1)\n",
    "\n",
    "dummies = pd.get_dummies(df_test.Sex)\n",
    "df_test = pd.concat([df_test,dummies], axis=\"columns\")\n",
    "df_test = df_test.drop(\"Sex\", axis=1)"
   ]
  },
  {
   "cell_type": "markdown",
   "metadata": {},
   "source": [
    "#### One-Hot Encoding \"Embarked\" column"
   ]
  },
  {
   "cell_type": "code",
   "execution_count": 176,
   "metadata": {},
   "outputs": [],
   "source": [
    "dummies2 = pd.get_dummies(df.Embarked)\n",
    "df = pd.concat([df,dummies2],axis=\"columns\")\n",
    "df = df.drop(\"Embarked\", axis = 1)\n",
    "df.drop(29.69911764705882,axis=1,inplace=True) # A column named 29.699... exists so I delete that \n",
    "df.at[61,'C'] = 1\n",
    "df.at[829,'C'] = 1\n",
    "\n",
    "dummies2 = pd.get_dummies(df_test.Embarked)\n",
    "df_test = pd.concat([df_test,dummies2],axis=\"columns\")\n",
    "df_test = df_test.drop(\"Embarked\", axis = 1)"
   ]
  },
  {
   "cell_type": "markdown",
   "metadata": {},
   "source": [
    "### Predictive Analysis"
   ]
  },
  {
   "cell_type": "code",
   "execution_count": 177,
   "metadata": {},
   "outputs": [],
   "source": [
    "from sklearn.ensemble import RandomForestRegressor"
   ]
  },
  {
   "cell_type": "code",
   "execution_count": 178,
   "metadata": {},
   "outputs": [
    {
     "data": {
      "text/html": [
       "<div>\n",
       "<style scoped>\n",
       "    .dataframe tbody tr th:only-of-type {\n",
       "        vertical-align: middle;\n",
       "    }\n",
       "\n",
       "    .dataframe tbody tr th {\n",
       "        vertical-align: top;\n",
       "    }\n",
       "\n",
       "    .dataframe thead th {\n",
       "        text-align: right;\n",
       "    }\n",
       "</style>\n",
       "<table border=\"1\" class=\"dataframe\">\n",
       "  <thead>\n",
       "    <tr style=\"text-align: right;\">\n",
       "      <th></th>\n",
       "      <th>PassengerId</th>\n",
       "      <th>Survived</th>\n",
       "      <th>Pclass</th>\n",
       "      <th>Age</th>\n",
       "      <th>Fare</th>\n",
       "      <th>Relatives</th>\n",
       "      <th>phase</th>\n",
       "      <th>phase_num</th>\n",
       "      <th>female</th>\n",
       "      <th>male</th>\n",
       "      <th>C</th>\n",
       "      <th>Q</th>\n",
       "      <th>S</th>\n",
       "    </tr>\n",
       "  </thead>\n",
       "  <tbody>\n",
       "    <tr>\n",
       "      <th>0</th>\n",
       "      <td>1</td>\n",
       "      <td>0</td>\n",
       "      <td>3</td>\n",
       "      <td>22.0</td>\n",
       "      <td>7.2500</td>\n",
       "      <td>1</td>\n",
       "      <td>young</td>\n",
       "      <td>2</td>\n",
       "      <td>0</td>\n",
       "      <td>1</td>\n",
       "      <td>0</td>\n",
       "      <td>0</td>\n",
       "      <td>1</td>\n",
       "    </tr>\n",
       "    <tr>\n",
       "      <th>1</th>\n",
       "      <td>2</td>\n",
       "      <td>1</td>\n",
       "      <td>1</td>\n",
       "      <td>38.0</td>\n",
       "      <td>71.2833</td>\n",
       "      <td>1</td>\n",
       "      <td>midlife</td>\n",
       "      <td>3</td>\n",
       "      <td>1</td>\n",
       "      <td>0</td>\n",
       "      <td>1</td>\n",
       "      <td>0</td>\n",
       "      <td>0</td>\n",
       "    </tr>\n",
       "    <tr>\n",
       "      <th>2</th>\n",
       "      <td>3</td>\n",
       "      <td>1</td>\n",
       "      <td>3</td>\n",
       "      <td>26.0</td>\n",
       "      <td>7.9250</td>\n",
       "      <td>0</td>\n",
       "      <td>young</td>\n",
       "      <td>2</td>\n",
       "      <td>1</td>\n",
       "      <td>0</td>\n",
       "      <td>0</td>\n",
       "      <td>0</td>\n",
       "      <td>1</td>\n",
       "    </tr>\n",
       "    <tr>\n",
       "      <th>3</th>\n",
       "      <td>4</td>\n",
       "      <td>1</td>\n",
       "      <td>1</td>\n",
       "      <td>35.0</td>\n",
       "      <td>53.1000</td>\n",
       "      <td>1</td>\n",
       "      <td>midlife</td>\n",
       "      <td>3</td>\n",
       "      <td>1</td>\n",
       "      <td>0</td>\n",
       "      <td>0</td>\n",
       "      <td>0</td>\n",
       "      <td>1</td>\n",
       "    </tr>\n",
       "    <tr>\n",
       "      <th>4</th>\n",
       "      <td>5</td>\n",
       "      <td>0</td>\n",
       "      <td>3</td>\n",
       "      <td>35.0</td>\n",
       "      <td>8.0500</td>\n",
       "      <td>0</td>\n",
       "      <td>midlife</td>\n",
       "      <td>3</td>\n",
       "      <td>0</td>\n",
       "      <td>1</td>\n",
       "      <td>0</td>\n",
       "      <td>0</td>\n",
       "      <td>1</td>\n",
       "    </tr>\n",
       "  </tbody>\n",
       "</table>\n",
       "</div>"
      ],
      "text/plain": [
       "   PassengerId  Survived  Pclass   Age     Fare  Relatives    phase  \\\n",
       "0            1         0       3  22.0   7.2500          1    young   \n",
       "1            2         1       1  38.0  71.2833          1  midlife   \n",
       "2            3         1       3  26.0   7.9250          0    young   \n",
       "3            4         1       1  35.0  53.1000          1  midlife   \n",
       "4            5         0       3  35.0   8.0500          0  midlife   \n",
       "\n",
       "   phase_num  female  male  C  Q  S  \n",
       "0          2       0     1  0  0  1  \n",
       "1          3       1     0  1  0  0  \n",
       "2          2       1     0  0  0  1  \n",
       "3          3       1     0  0  0  1  \n",
       "4          3       0     1  0  0  1  "
      ]
     },
     "execution_count": 178,
     "metadata": {},
     "output_type": "execute_result"
    }
   ],
   "source": [
    "df.head()"
   ]
  },
  {
   "cell_type": "code",
   "execution_count": 179,
   "metadata": {},
   "outputs": [
    {
     "data": {
      "text/html": [
       "<div>\n",
       "<style scoped>\n",
       "    .dataframe tbody tr th:only-of-type {\n",
       "        vertical-align: middle;\n",
       "    }\n",
       "\n",
       "    .dataframe tbody tr th {\n",
       "        vertical-align: top;\n",
       "    }\n",
       "\n",
       "    .dataframe thead th {\n",
       "        text-align: right;\n",
       "    }\n",
       "</style>\n",
       "<table border=\"1\" class=\"dataframe\">\n",
       "  <thead>\n",
       "    <tr style=\"text-align: right;\">\n",
       "      <th></th>\n",
       "      <th>PassengerId</th>\n",
       "      <th>Survived</th>\n",
       "      <th>Pclass</th>\n",
       "      <th>Age</th>\n",
       "      <th>Fare</th>\n",
       "      <th>Relatives</th>\n",
       "      <th>phase_num</th>\n",
       "      <th>female</th>\n",
       "      <th>male</th>\n",
       "      <th>C</th>\n",
       "      <th>Q</th>\n",
       "      <th>S</th>\n",
       "    </tr>\n",
       "  </thead>\n",
       "  <tbody>\n",
       "    <tr>\n",
       "      <th>PassengerId</th>\n",
       "      <td>1.000000</td>\n",
       "      <td>-0.005007</td>\n",
       "      <td>-0.035144</td>\n",
       "      <td>0.033207</td>\n",
       "      <td>0.012658</td>\n",
       "      <td>-0.040143</td>\n",
       "      <td>0.032844</td>\n",
       "      <td>-0.042939</td>\n",
       "      <td>0.042939</td>\n",
       "      <td>-0.001199</td>\n",
       "      <td>-0.033606</td>\n",
       "      <td>0.022148</td>\n",
       "    </tr>\n",
       "    <tr>\n",
       "      <th>Survived</th>\n",
       "      <td>-0.005007</td>\n",
       "      <td>1.000000</td>\n",
       "      <td>-0.338481</td>\n",
       "      <td>-0.069809</td>\n",
       "      <td>0.257307</td>\n",
       "      <td>0.016639</td>\n",
       "      <td>-0.082618</td>\n",
       "      <td>0.543351</td>\n",
       "      <td>-0.543351</td>\n",
       "      <td>0.174718</td>\n",
       "      <td>0.003650</td>\n",
       "      <td>-0.155660</td>\n",
       "    </tr>\n",
       "    <tr>\n",
       "      <th>Pclass</th>\n",
       "      <td>-0.035144</td>\n",
       "      <td>-0.338481</td>\n",
       "      <td>1.000000</td>\n",
       "      <td>-0.331339</td>\n",
       "      <td>-0.549500</td>\n",
       "      <td>0.065997</td>\n",
       "      <td>-0.246041</td>\n",
       "      <td>-0.131900</td>\n",
       "      <td>0.131900</td>\n",
       "      <td>-0.251139</td>\n",
       "      <td>0.221009</td>\n",
       "      <td>0.081720</td>\n",
       "    </tr>\n",
       "    <tr>\n",
       "      <th>Age</th>\n",
       "      <td>0.033207</td>\n",
       "      <td>-0.069809</td>\n",
       "      <td>-0.331339</td>\n",
       "      <td>1.000000</td>\n",
       "      <td>0.091566</td>\n",
       "      <td>-0.248512</td>\n",
       "      <td>0.884038</td>\n",
       "      <td>-0.084153</td>\n",
       "      <td>0.084153</td>\n",
       "      <td>0.040804</td>\n",
       "      <td>-0.013855</td>\n",
       "      <td>-0.027121</td>\n",
       "    </tr>\n",
       "    <tr>\n",
       "      <th>Fare</th>\n",
       "      <td>0.012658</td>\n",
       "      <td>0.257307</td>\n",
       "      <td>-0.549500</td>\n",
       "      <td>0.091566</td>\n",
       "      <td>1.000000</td>\n",
       "      <td>0.217138</td>\n",
       "      <td>0.055944</td>\n",
       "      <td>0.182333</td>\n",
       "      <td>-0.182333</td>\n",
       "      <td>0.273614</td>\n",
       "      <td>-0.117216</td>\n",
       "      <td>-0.166603</td>\n",
       "    </tr>\n",
       "    <tr>\n",
       "      <th>Relatives</th>\n",
       "      <td>-0.040143</td>\n",
       "      <td>0.016639</td>\n",
       "      <td>0.065997</td>\n",
       "      <td>-0.248512</td>\n",
       "      <td>0.217138</td>\n",
       "      <td>1.000000</td>\n",
       "      <td>-0.260693</td>\n",
       "      <td>0.200988</td>\n",
       "      <td>-0.200988</td>\n",
       "      <td>-0.049211</td>\n",
       "      <td>-0.058592</td>\n",
       "      <td>0.079977</td>\n",
       "    </tr>\n",
       "    <tr>\n",
       "      <th>phase_num</th>\n",
       "      <td>0.032844</td>\n",
       "      <td>-0.082618</td>\n",
       "      <td>-0.246041</td>\n",
       "      <td>0.884038</td>\n",
       "      <td>0.055944</td>\n",
       "      <td>-0.260693</td>\n",
       "      <td>1.000000</td>\n",
       "      <td>-0.094640</td>\n",
       "      <td>0.094640</td>\n",
       "      <td>0.027039</td>\n",
       "      <td>0.091461</td>\n",
       "      <td>-0.081147</td>\n",
       "    </tr>\n",
       "    <tr>\n",
       "      <th>female</th>\n",
       "      <td>-0.042939</td>\n",
       "      <td>0.543351</td>\n",
       "      <td>-0.131900</td>\n",
       "      <td>-0.084153</td>\n",
       "      <td>0.182333</td>\n",
       "      <td>0.200988</td>\n",
       "      <td>-0.094640</td>\n",
       "      <td>1.000000</td>\n",
       "      <td>-1.000000</td>\n",
       "      <td>0.090223</td>\n",
       "      <td>0.074115</td>\n",
       "      <td>-0.125722</td>\n",
       "    </tr>\n",
       "    <tr>\n",
       "      <th>male</th>\n",
       "      <td>0.042939</td>\n",
       "      <td>-0.543351</td>\n",
       "      <td>0.131900</td>\n",
       "      <td>0.084153</td>\n",
       "      <td>-0.182333</td>\n",
       "      <td>-0.200988</td>\n",
       "      <td>0.094640</td>\n",
       "      <td>-1.000000</td>\n",
       "      <td>1.000000</td>\n",
       "      <td>-0.090223</td>\n",
       "      <td>-0.074115</td>\n",
       "      <td>0.125722</td>\n",
       "    </tr>\n",
       "    <tr>\n",
       "      <th>C</th>\n",
       "      <td>-0.001199</td>\n",
       "      <td>0.174718</td>\n",
       "      <td>-0.251139</td>\n",
       "      <td>0.040804</td>\n",
       "      <td>0.273614</td>\n",
       "      <td>-0.049211</td>\n",
       "      <td>0.027039</td>\n",
       "      <td>0.090223</td>\n",
       "      <td>-0.090223</td>\n",
       "      <td>1.000000</td>\n",
       "      <td>-0.149345</td>\n",
       "      <td>-0.784064</td>\n",
       "    </tr>\n",
       "    <tr>\n",
       "      <th>Q</th>\n",
       "      <td>-0.033606</td>\n",
       "      <td>0.003650</td>\n",
       "      <td>0.221009</td>\n",
       "      <td>-0.013855</td>\n",
       "      <td>-0.117216</td>\n",
       "      <td>-0.058592</td>\n",
       "      <td>0.091461</td>\n",
       "      <td>0.074115</td>\n",
       "      <td>-0.074115</td>\n",
       "      <td>-0.149345</td>\n",
       "      <td>1.000000</td>\n",
       "      <td>-0.496624</td>\n",
       "    </tr>\n",
       "    <tr>\n",
       "      <th>S</th>\n",
       "      <td>0.022148</td>\n",
       "      <td>-0.155660</td>\n",
       "      <td>0.081720</td>\n",
       "      <td>-0.027121</td>\n",
       "      <td>-0.166603</td>\n",
       "      <td>0.079977</td>\n",
       "      <td>-0.081147</td>\n",
       "      <td>-0.125722</td>\n",
       "      <td>0.125722</td>\n",
       "      <td>-0.784064</td>\n",
       "      <td>-0.496624</td>\n",
       "      <td>1.000000</td>\n",
       "    </tr>\n",
       "  </tbody>\n",
       "</table>\n",
       "</div>"
      ],
      "text/plain": [
       "             PassengerId  Survived    Pclass       Age      Fare  Relatives  \\\n",
       "PassengerId     1.000000 -0.005007 -0.035144  0.033207  0.012658  -0.040143   \n",
       "Survived       -0.005007  1.000000 -0.338481 -0.069809  0.257307   0.016639   \n",
       "Pclass         -0.035144 -0.338481  1.000000 -0.331339 -0.549500   0.065997   \n",
       "Age             0.033207 -0.069809 -0.331339  1.000000  0.091566  -0.248512   \n",
       "Fare            0.012658  0.257307 -0.549500  0.091566  1.000000   0.217138   \n",
       "Relatives      -0.040143  0.016639  0.065997 -0.248512  0.217138   1.000000   \n",
       "phase_num       0.032844 -0.082618 -0.246041  0.884038  0.055944  -0.260693   \n",
       "female         -0.042939  0.543351 -0.131900 -0.084153  0.182333   0.200988   \n",
       "male            0.042939 -0.543351  0.131900  0.084153 -0.182333  -0.200988   \n",
       "C              -0.001199  0.174718 -0.251139  0.040804  0.273614  -0.049211   \n",
       "Q              -0.033606  0.003650  0.221009 -0.013855 -0.117216  -0.058592   \n",
       "S               0.022148 -0.155660  0.081720 -0.027121 -0.166603   0.079977   \n",
       "\n",
       "             phase_num    female      male         C         Q         S  \n",
       "PassengerId   0.032844 -0.042939  0.042939 -0.001199 -0.033606  0.022148  \n",
       "Survived     -0.082618  0.543351 -0.543351  0.174718  0.003650 -0.155660  \n",
       "Pclass       -0.246041 -0.131900  0.131900 -0.251139  0.221009  0.081720  \n",
       "Age           0.884038 -0.084153  0.084153  0.040804 -0.013855 -0.027121  \n",
       "Fare          0.055944  0.182333 -0.182333  0.273614 -0.117216 -0.166603  \n",
       "Relatives    -0.260693  0.200988 -0.200988 -0.049211 -0.058592  0.079977  \n",
       "phase_num     1.000000 -0.094640  0.094640  0.027039  0.091461 -0.081147  \n",
       "female       -0.094640  1.000000 -1.000000  0.090223  0.074115 -0.125722  \n",
       "male          0.094640 -1.000000  1.000000 -0.090223 -0.074115  0.125722  \n",
       "C             0.027039  0.090223 -0.090223  1.000000 -0.149345 -0.784064  \n",
       "Q             0.091461  0.074115 -0.074115 -0.149345  1.000000 -0.496624  \n",
       "S            -0.081147 -0.125722  0.125722 -0.784064 -0.496624  1.000000  "
      ]
     },
     "execution_count": 179,
     "metadata": {},
     "output_type": "execute_result"
    }
   ],
   "source": [
    "df.corr()"
   ]
  },
  {
   "cell_type": "code",
   "execution_count": 180,
   "metadata": {},
   "outputs": [
    {
     "data": {
      "text/plain": [
       "0.7030383348766698"
      ]
     },
     "execution_count": 180,
     "metadata": {},
     "output_type": "execute_result"
    }
   ],
   "source": [
    "xtrain = df[[\"Pclass\",\"male\", \"female\",\"Fare\", \"C\",\"S\"]] # \"C\", \"Q\", \"S\",\n",
    "ytrain = df.Survived\n",
    "xtest = df_test[[\"Pclass\",\"male\", \"female\",\"Fare\", \"C\",\"S\"]]\n",
    "\n",
    "reg = RandomForestRegressor(max_depth=200, n_estimators=200)\n",
    "reg.fit(xtrain, ytrain)\n",
    "pred = reg.predict(xtest)\n",
    "\n",
    "pred_int = pred.astype(\"int64\")\n",
    "df_test[\"Survived\"] = pred_int\n",
    "reg.score(xtrain,ytrain)"
   ]
  },
  {
   "cell_type": "markdown",
   "metadata": {},
   "source": [
    "#### Created model predicts survivors with an accuracy of 70%"
   ]
  },
  {
   "cell_type": "code",
   "execution_count": 181,
   "metadata": {},
   "outputs": [
    {
     "data": {
      "text/plain": [
       "PassengerId    56\n",
       "Pclass         56\n",
       "Age            56\n",
       "Fare           56\n",
       "Relatives      56\n",
       "phase          56\n",
       "phase_num      56\n",
       "female         56\n",
       "male           56\n",
       "C              56\n",
       "Q              56\n",
       "S              56\n",
       "Survived       56\n",
       "dtype: int64"
      ]
     },
     "execution_count": 181,
     "metadata": {},
     "output_type": "execute_result"
    }
   ],
   "source": [
    "df_test.loc[df_test.Survived == 1].count()"
   ]
  },
  {
   "cell_type": "code",
   "execution_count": 182,
   "metadata": {},
   "outputs": [
    {
     "data": {
      "text/html": [
       "<div>\n",
       "<style scoped>\n",
       "    .dataframe tbody tr th:only-of-type {\n",
       "        vertical-align: middle;\n",
       "    }\n",
       "\n",
       "    .dataframe tbody tr th {\n",
       "        vertical-align: top;\n",
       "    }\n",
       "\n",
       "    .dataframe thead th {\n",
       "        text-align: right;\n",
       "    }\n",
       "</style>\n",
       "<table border=\"1\" class=\"dataframe\">\n",
       "  <thead>\n",
       "    <tr style=\"text-align: right;\">\n",
       "      <th></th>\n",
       "      <th>PassengerId</th>\n",
       "      <th>Survived</th>\n",
       "    </tr>\n",
       "  </thead>\n",
       "  <tbody>\n",
       "    <tr>\n",
       "      <th>0</th>\n",
       "      <td>892</td>\n",
       "      <td>0</td>\n",
       "    </tr>\n",
       "    <tr>\n",
       "      <th>1</th>\n",
       "      <td>893</td>\n",
       "      <td>0</td>\n",
       "    </tr>\n",
       "    <tr>\n",
       "      <th>2</th>\n",
       "      <td>894</td>\n",
       "      <td>0</td>\n",
       "    </tr>\n",
       "    <tr>\n",
       "      <th>3</th>\n",
       "      <td>895</td>\n",
       "      <td>0</td>\n",
       "    </tr>\n",
       "    <tr>\n",
       "      <th>4</th>\n",
       "      <td>896</td>\n",
       "      <td>0</td>\n",
       "    </tr>\n",
       "  </tbody>\n",
       "</table>\n",
       "</div>"
      ],
      "text/plain": [
       "   PassengerId  Survived\n",
       "0          892         0\n",
       "1          893         0\n",
       "2          894         0\n",
       "3          895         0\n",
       "4          896         0"
      ]
     },
     "execution_count": 182,
     "metadata": {},
     "output_type": "execute_result"
    }
   ],
   "source": [
    "df_pred = df_test.copy()\n",
    "df_pred.drop(df_pred.iloc[:, 1:12], inplace = True, axis = 1)\n",
    "df_pred.head()\n"
   ]
  },
  {
   "cell_type": "code",
   "execution_count": 183,
   "metadata": {},
   "outputs": [],
   "source": [
    "df_pred.to_csv(\"titanic_pred2.csv\", index=False)"
   ]
  }
 ],
 "metadata": {
  "interpreter": {
   "hash": "82f3271a2574c030bb07586ed2b0d9fa405de9f9c25dd1f3f81137bf2d3069b6"
  },
  "kernelspec": {
   "display_name": "Python 3.9.7 ('base')",
   "language": "python",
   "name": "python3"
  },
  "language_info": {
   "codemirror_mode": {
    "name": "ipython",
    "version": 3
   },
   "file_extension": ".py",
   "mimetype": "text/x-python",
   "name": "python",
   "nbconvert_exporter": "python",
   "pygments_lexer": "ipython3",
   "version": "3.9.7"
  },
  "orig_nbformat": 4
 },
 "nbformat": 4,
 "nbformat_minor": 2
}
